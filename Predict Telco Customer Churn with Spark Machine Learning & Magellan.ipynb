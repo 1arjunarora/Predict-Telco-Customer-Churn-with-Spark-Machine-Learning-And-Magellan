{
 "cells": [
  {
   "cell_type": "markdown",
   "metadata": {},
   "source": [
    "# ============================================================="
   ]
  },
  {
   "cell_type": "markdown",
   "metadata": {},
   "source": [
    "#  Predict Telco Customer Churn with Spark Machine Learning & Magellan"
   ]
  },
  {
   "cell_type": "markdown",
   "metadata": {},
   "source": [
    "# ============================================================="
   ]
  },
  {
   "cell_type": "markdown",
   "metadata": {},
   "source": [
    "What is Magellan ?\n",
    "- Magellan is a flexible, AI-powered Analytics platform that combines open source ML with advanced analytics, enterprise-grade BI, and capabilities to acquire, merge, manage and analyze Big Data and Big Content stored in your Enterprise Information Management (EIM) systems. Magellan enables machine-assisted decision making, automation, and business optimization.\n",
    "\n",
    "\n",
    "What is Spark Machine Learning ?\n",
    "\n",
    "- Apache Spark’s machine learning library makes practical machine learning scalable and easy. The library consists of common machine learning algorithms and utilities, including classification, regression, clustering, collaborative filtering, dimensionality reduction, lower-level optimization primitives, and higher-level pipeline APIs."
   ]
  },
  {
   "cell_type": "markdown",
   "metadata": {},
   "source": [
    "# ============================================================="
   ]
  },
  {
   "cell_type": "markdown",
   "metadata": {},
   "source": [
    "What is this Notebook about?\n",
    "- In this magellan notebook, you will use Apache Spark and the Spark machine learning library to build a Customer Churn Prediction model.\n",
    "\n",
    "- Customer Churn refers to when a customer ceases to complete target actions (e.g. add to cart, leave a comment, etc.) within a given period of time OR when a customer ceases his or her relationship with a company. \n",
    "- Thus, predicting “likely-to-churn” from engaged customers will allow us to:\n",
    "\n",
    "    1. Analyze the reasons for such behavior \n",
    "    2. Refocus and personalize offerings for different groups of churning customers\n",
    "    3. Proactivley target likely to churn customers with customized offerings\n",
    " \n",
    "What kind of data are we working with?\n",
    "- Customers who left within the last month – the column is called Churn\n",
    "- Services that each customer has signed up for – phone, multiple lines, internet, online security, online backup, device protection, tech support, and streaming TV and movies\n",
    "- Customer account information – how long they’ve been a customer, contract, payment method, paperless billing, monthly charges, and total charges\n",
    "- Demographic info about customers – gender, age range, and if they have partners and dependents\n",
    "\n",
    "What are the Notebook Requirements?\n",
    "\n",
    "- historical_data (Historical data containing information about telco customers)\n",
    "- Magellan - Pyspark Kernel\n",
    "- Magellan Version 16.6"
   ]
  },
  {
   "cell_type": "markdown",
   "metadata": {},
   "source": [
    "# ============================================================="
   ]
  },
  {
   "cell_type": "markdown",
   "metadata": {},
   "source": [
    "# In this notebook, you will learn how to:\n",
    "\n",
    "1. Load data from the Magellan Data Lake (HDFS)\n",
    "2. Conduct initial data exploration & Impute Missing Data\n",
    "3. Data Processing & Variable Selection\n",
    "4. Create & Train A Decision Tree Model Pipeline\n",
    "5. Make Predictions On Test Data and Evaluate Model Accuracy\n",
    "6. Save & deploy the machine learning pipeline to empower users\n",
    "6. Explore and visualize the prediction results"
   ]
  },
  {
   "cell_type": "markdown",
   "metadata": {},
   "source": [
    "# ============================================================="
   ]
  },
  {
   "cell_type": "markdown",
   "metadata": {},
   "source": [
    "# 1. Load data from the Magellan Data Lake (HDFS)"
   ]
  },
  {
   "cell_type": "code",
   "execution_count": 27,
   "metadata": {
    "collapsed": true
   },
   "outputs": [],
   "source": [
    "# import visualization packages\n",
    "import seaborn as sns\n",
    "import matplotlib.pyplot as plt\n",
    "import pandas as pd\n",
    "\n",
    "# load the historical customer data\n",
    "customers_data = spark.sql(\"select gender, seniorcitizen, partner, dependents, tenure, phoneservice,\\\n",
    "                           multiplelines, internetservice, onlinesecurity, onlinebackup, deviceprotection, techsupport,\\\n",
    "                           streamingtv,streamingmovies, contract, paperlessbilling, paymentmethod, monthlycharges,\\\n",
    "                           totalcharges, churn from telecom_churn.historical_data\")\n"
   ]
  },
  {
   "cell_type": "markdown",
   "metadata": {},
   "source": [
    "# 2. Conduct Initial Data Exploration & Impute Missing Data\n",
    "\n"
   ]
  },
  {
   "cell_type": "markdown",
   "metadata": {},
   "source": [
    "- Count number of records\n",
    "- Check distribution of target label\n",
    "- Check values of a few records in the data\n",
    "- Check Missing Values in each column and Remove"
   ]
  },
  {
   "cell_type": "code",
   "execution_count": 28,
   "metadata": {
    "scrolled": true
   },
   "outputs": [
    {
     "name": "stdout",
     "output_type": "stream",
     "text": [
      "There are  7,043 customer records\n"
     ]
    }
   ],
   "source": [
    "print \"There are \", format(customers_data.count(),',d'), \"customer records\""
   ]
  },
  {
   "cell_type": "code",
   "execution_count": 36,
   "metadata": {
    "scrolled": false
   },
   "outputs": [
    {
     "data": {
      "image/png": "[encoded data removed]",
      "text/plain": [
       "<Figure size 432x288 with 1 Axes>"
      ]
     },
     "metadata": {
      "needs_background": "light"
     },
     "output_type": "display_data"
    }
   ],
   "source": [
    "# Check distribution of target label - churn\n",
    "data = customers_data.toPandas()\n",
    "data['churn'].value_counts().plot(kind = 'bar')\n",
    "plt.xlabel('Whether Customer Churned Or Not')\n",
    "plt.title('Customer Churn')\n",
    "plt.show()"
   ]
  },
  {
   "cell_type": "markdown",
   "metadata": {},
   "source": [
    "## Let's see values of a few records\n"
   ]
  },
  {
   "cell_type": "code",
   "execution_count": 22,
   "metadata": {},
   "outputs": [
    {
     "data": {
      "text/html": [
       "<div>\n",
       "<style scoped>\n",
       "    .dataframe tbody tr th:only-of-type {\n",
       "        vertical-align: middle;\n",
       "    }\n",
       "\n",
       "    .dataframe tbody tr th {\n",
       "        vertical-align: top;\n",
       "    }\n",
       "\n",
       "    .dataframe thead th {\n",
       "        text-align: right;\n",
       "    }\n",
       "</style>\n",
       "<table border=\"1\" class=\"dataframe\">\n",
       "  <thead>\n",
       "    <tr style=\"text-align: right;\">\n",
       "      <th></th>\n",
       "      <th>4502</th>\n",
       "      <th>2593</th>\n",
       "      <th>7023</th>\n",
       "      <th>488</th>\n",
       "      <th>3395</th>\n",
       "    </tr>\n",
       "  </thead>\n",
       "  <tbody>\n",
       "    <tr>\n",
       "      <th>gender</th>\n",
       "      <td>Male</td>\n",
       "      <td>Male</td>\n",
       "      <td>Male</td>\n",
       "      <td>Male</td>\n",
       "      <td>Male</td>\n",
       "    </tr>\n",
       "    <tr>\n",
       "      <th>seniorcitizen</th>\n",
       "      <td>0</td>\n",
       "      <td>1</td>\n",
       "      <td>1</td>\n",
       "      <td>0</td>\n",
       "      <td>0</td>\n",
       "    </tr>\n",
       "    <tr>\n",
       "      <th>partner</th>\n",
       "      <td>No</td>\n",
       "      <td>No</td>\n",
       "      <td>No</td>\n",
       "      <td>No</td>\n",
       "      <td>Yes</td>\n",
       "    </tr>\n",
       "    <tr>\n",
       "      <th>dependents</th>\n",
       "      <td>No</td>\n",
       "      <td>No</td>\n",
       "      <td>No</td>\n",
       "      <td>Yes</td>\n",
       "      <td>No</td>\n",
       "    </tr>\n",
       "    <tr>\n",
       "      <th>tenure</th>\n",
       "      <td>10</td>\n",
       "      <td>16</td>\n",
       "      <td>9</td>\n",
       "      <td>23</td>\n",
       "      <td>72</td>\n",
       "    </tr>\n",
       "    <tr>\n",
       "      <th>phoneservice</th>\n",
       "      <td>Yes</td>\n",
       "      <td>Yes</td>\n",
       "      <td>Yes</td>\n",
       "      <td>Yes</td>\n",
       "      <td>Yes</td>\n",
       "    </tr>\n",
       "    <tr>\n",
       "      <th>multiplelines</th>\n",
       "      <td>Yes</td>\n",
       "      <td>Yes</td>\n",
       "      <td>Yes</td>\n",
       "      <td>No</td>\n",
       "      <td>Yes</td>\n",
       "    </tr>\n",
       "    <tr>\n",
       "      <th>internetservice</th>\n",
       "      <td>Fiber optic</td>\n",
       "      <td>Fiber optic</td>\n",
       "      <td>Fiber optic</td>\n",
       "      <td>DSL</td>\n",
       "      <td>Fiber optic</td>\n",
       "    </tr>\n",
       "    <tr>\n",
       "      <th>onlinesecurity</th>\n",
       "      <td>No</td>\n",
       "      <td>No</td>\n",
       "      <td>No</td>\n",
       "      <td>No</td>\n",
       "      <td>No</td>\n",
       "    </tr>\n",
       "    <tr>\n",
       "      <th>onlinebackup</th>\n",
       "      <td>No</td>\n",
       "      <td>No</td>\n",
       "      <td>No</td>\n",
       "      <td>Yes</td>\n",
       "      <td>Yes</td>\n",
       "    </tr>\n",
       "    <tr>\n",
       "      <th>deviceprotection</th>\n",
       "      <td>No</td>\n",
       "      <td>No</td>\n",
       "      <td>No</td>\n",
       "      <td>No</td>\n",
       "      <td>Yes</td>\n",
       "    </tr>\n",
       "    <tr>\n",
       "      <th>techsupport</th>\n",
       "      <td>No</td>\n",
       "      <td>No</td>\n",
       "      <td>No</td>\n",
       "      <td>Yes</td>\n",
       "      <td>No</td>\n",
       "    </tr>\n",
       "    <tr>\n",
       "      <th>streamingtv</th>\n",
       "      <td>No</td>\n",
       "      <td>No</td>\n",
       "      <td>No</td>\n",
       "      <td>No</td>\n",
       "      <td>Yes</td>\n",
       "    </tr>\n",
       "    <tr>\n",
       "      <th>streamingmovies</th>\n",
       "      <td>No</td>\n",
       "      <td>No</td>\n",
       "      <td>Yes</td>\n",
       "      <td>No</td>\n",
       "      <td>Yes</td>\n",
       "    </tr>\n",
       "    <tr>\n",
       "      <th>contract</th>\n",
       "      <td>Month-to-month</td>\n",
       "      <td>Month-to-month</td>\n",
       "      <td>Month-to-month</td>\n",
       "      <td>Month-to-month</td>\n",
       "      <td>Two year</td>\n",
       "    </tr>\n",
       "    <tr>\n",
       "      <th>paperlessbilling</th>\n",
       "      <td>Yes</td>\n",
       "      <td>Yes</td>\n",
       "      <td>Yes</td>\n",
       "      <td>No</td>\n",
       "      <td>Yes</td>\n",
       "    </tr>\n",
       "    <tr>\n",
       "      <th>paymentmethod</th>\n",
       "      <td>Mailed check</td>\n",
       "      <td>Bank transfer (automatic)</td>\n",
       "      <td>Electronic check</td>\n",
       "      <td>Electronic check</td>\n",
       "      <td>Bank transfer (automatic)</td>\n",
       "    </tr>\n",
       "    <tr>\n",
       "      <th>monthlycharges</th>\n",
       "      <td>74.15</td>\n",
       "      <td>74.45</td>\n",
       "      <td>83.85</td>\n",
       "      <td>54.15</td>\n",
       "      <td>103.75</td>\n",
       "    </tr>\n",
       "    <tr>\n",
       "      <th>totalcharges</th>\n",
       "      <td>811.8</td>\n",
       "      <td>1261.35</td>\n",
       "      <td>790.15</td>\n",
       "      <td>1312.45</td>\n",
       "      <td>7346.2</td>\n",
       "    </tr>\n",
       "    <tr>\n",
       "      <th>churn</th>\n",
       "      <td>Yes</td>\n",
       "      <td>No</td>\n",
       "      <td>Yes</td>\n",
       "      <td>No</td>\n",
       "      <td>No</td>\n",
       "    </tr>\n",
       "  </tbody>\n",
       "</table>\n",
       "</div>"
      ],
      "text/plain": [
       "                            4502                       2593              7023  \\\n",
       "gender                      Male                       Male              Male   \n",
       "seniorcitizen                  0                          1                 1   \n",
       "partner                       No                         No                No   \n",
       "dependents                    No                         No                No   \n",
       "tenure                        10                         16                 9   \n",
       "phoneservice                 Yes                        Yes               Yes   \n",
       "multiplelines                Yes                        Yes               Yes   \n",
       "internetservice      Fiber optic                Fiber optic       Fiber optic   \n",
       "onlinesecurity                No                         No                No   \n",
       "onlinebackup                  No                         No                No   \n",
       "deviceprotection              No                         No                No   \n",
       "techsupport                   No                         No                No   \n",
       "streamingtv                   No                         No                No   \n",
       "streamingmovies               No                         No               Yes   \n",
       "contract          Month-to-month             Month-to-month    Month-to-month   \n",
       "paperlessbilling             Yes                        Yes               Yes   \n",
       "paymentmethod       Mailed check  Bank transfer (automatic)  Electronic check   \n",
       "monthlycharges             74.15                      74.45             83.85   \n",
       "totalcharges               811.8                    1261.35            790.15   \n",
       "churn                        Yes                         No               Yes   \n",
       "\n",
       "                              488                        3395  \n",
       "gender                        Male                       Male  \n",
       "seniorcitizen                    0                          0  \n",
       "partner                         No                        Yes  \n",
       "dependents                     Yes                         No  \n",
       "tenure                          23                         72  \n",
       "phoneservice                   Yes                        Yes  \n",
       "multiplelines                   No                        Yes  \n",
       "internetservice                DSL                Fiber optic  \n",
       "onlinesecurity                  No                         No  \n",
       "onlinebackup                   Yes                        Yes  \n",
       "deviceprotection                No                        Yes  \n",
       "techsupport                    Yes                         No  \n",
       "streamingtv                     No                        Yes  \n",
       "streamingmovies                 No                        Yes  \n",
       "contract            Month-to-month                   Two year  \n",
       "paperlessbilling                No                        Yes  \n",
       "paymentmethod     Electronic check  Bank transfer (automatic)  \n",
       "monthlycharges               54.15                     103.75  \n",
       "totalcharges               1312.45                     7346.2  \n",
       "churn                           No                         No  "
      ]
     },
     "execution_count": 22,
     "metadata": {},
     "output_type": "execute_result"
    }
   ],
   "source": [
    "data.sample(5).transpose()"
   ]
  },
  {
   "cell_type": "markdown",
   "metadata": {},
   "source": [
    "## What is the % of missing values in each column?\n"
   ]
  },
  {
   "cell_type": "code",
   "execution_count": 24,
   "metadata": {},
   "outputs": [
    {
     "data": {
      "text/plain": [
       "gender              0.16\n",
       "seniorcitizen       0.16\n",
       "partner             0.16\n",
       "dependents          0.16\n",
       "tenure              0.16\n",
       "phoneservice        0.16\n",
       "multiplelines       0.16\n",
       "internetservice     0.16\n",
       "onlinesecurity      0.16\n",
       "onlinebackup        0.16\n",
       "deviceprotection    0.16\n",
       "techsupport         0.16\n",
       "streamingtv         0.16\n",
       "streamingmovies     0.16\n",
       "contract            0.16\n",
       "paperlessbilling    0.16\n",
       "paymentmethod       0.16\n",
       "monthlycharges      0.16\n",
       "totalcharges        0.16\n",
       "churn               0.16\n",
       "dtype: float64"
      ]
     },
     "execution_count": 24,
     "metadata": {},
     "output_type": "execute_result"
    }
   ],
   "source": [
    "((data.isnull().sum()/data.shape[0])*100).round(decimals=2)"
   ]
  },
  {
   "cell_type": "code",
   "execution_count": 35,
   "metadata": {},
   "outputs": [
    {
     "name": "stdout",
     "output_type": "stream",
     "text": [
      "Since only 0.16 % of data is missing - we will remove that. There are now only 7,032 customer records\n"
     ]
    }
   ],
   "source": [
    "# Remove missing data\n",
    "customers_data = customers_data.na.drop()\n",
    "print \"Since only 0.16 % of data is missing - we will remove that. There are now only\", format(customers_data.count(),',d'), \"customer records\""
   ]
  },
  {
   "cell_type": "markdown",
   "metadata": {},
   "source": [
    "# ============================================================"
   ]
  },
  {
   "cell_type": "markdown",
   "metadata": {
    "collapsed": true
   },
   "source": [
    "# 3. Data Processing & Variable Selection (Model Pipeline Setup)\n"
   ]
  },
  {
   "cell_type": "markdown",
   "metadata": {},
   "source": [
    "As an example, here we are building a pipleine that predicts whether or not a customer will churn based on various demographic and product usage characteristics about the customer. \n",
    "\n",
    "## Stages in Customer Churn Model Pipeline:\n",
    "1. We will organize data into required format so that a machine learning algorithm can learn a pattern relating to churn. \n",
    "2. We will specify the inputs for the Machine learning algorithm to train a model on\n",
    "3. We will use decision tree algorithm to predict whether customer will churn or not (step 4)\n",
    "4. We will initialize the pipeline with a training data set. The initialized pipeline is then saved as a model in the Magellan data lake and published to Data Discovery for deployment purposes (Step 4)"
   ]
  },
  {
   "cell_type": "code",
   "execution_count": 37,
   "metadata": {
    "collapsed": true
   },
   "outputs": [],
   "source": [
    "# Upload spark utility packages\n",
    "from pyspark.sql.types import *\n",
    "from pyspark.sql.functions import *\n",
    "from pyspark.ml import Pipeline\n",
    "from pyspark.ml.classification import DecisionTreeClassifier\n",
    "from pyspark.ml.feature import IndexToString, StringIndexer, VectorIndexer,VectorAssembler, OneHotEncoder\n",
    "from pyspark.mllib.evaluation import BinaryClassificationMetrics\n",
    "import functools \n",
    "import operator"
   ]
  },
  {
   "cell_type": "code",
   "execution_count": 55,
   "metadata": {
    "scrolled": false
   },
   "outputs": [],
   "source": [
    "stages = [] # set up a list for stages in our Pipeline\n",
    "\n",
    "# select categorical columns\n",
    "categoricalColumns = ['gender','seniorcitizen','partner','dependents','phoneservice','multiplelines',\n",
    "                      'internetservice', 'onlinesecurity', 'onlinebackup', 'deviceprotection', 'techsupport', \n",
    "                      'streamingtv', 'streamingmovies', 'contract','paperlessbilling','paymentmethod']\n",
    "\n",
    "# Category Indexing with StringIndexer\n",
    "indexers = [StringIndexer(inputCol = column, outputCol = column+\"_index\") for column in categoricalColumns]\n",
    "\n",
    "# Use OneHotEncoder to convert categorical variables into binary SparseVectors\n",
    "encoders = [OneHotEncoder(inputCol = column+\"_index\", outputCol = column+\"_dummy\") for column in categoricalColumns]\n",
    "\n",
    "numericColumns = ['monthlycharges', 'totalcharges']\n",
    "\n",
    "# Convert label into label indices using the StringIndexer\n",
    "labelIndexer = StringIndexer(inputCol=\"churn\", outputCol=\"label\")"
   ]
  },
  {
   "cell_type": "code",
   "execution_count": 56,
   "metadata": {},
   "outputs": [],
   "source": [
    "# Append all relevant columns into 1 list\n",
    "input_cols = []\n",
    "for i in categoricalColumns:\n",
    "      input_cols.append(i+\"_dummy\")\n",
    "for i in numericColumns:\n",
    "      input_cols.append(i)\n",
    "        \n",
    "# assemble all inputs using VectorAssembler - this is required format for applying an algoirthm in next step\n",
    "assembler = VectorAssembler(inputCols= input_cols, outputCol=\"features\")"
   ]
  },
  {
   "cell_type": "markdown",
   "metadata": {
    "collapsed": true
   },
   "source": [
    "# 4. Create & Train A Decision Tree Model Pipeline"
   ]
  },
  {
   "cell_type": "markdown",
   "metadata": {},
   "source": [
    "- Create a training and test set\n",
    "- Train ML model pipeline on Training Data\n"
   ]
  },
  {
   "cell_type": "markdown",
   "metadata": {},
   "source": [
    "Why are Decision Tree Algorithms Advantageous?\n",
    "- Decision trees generate classification and regression models which can be used for feature selection and sample prediction. The transparency of these models is a big advantage over black-box learners, because the models are easy to understand and interpret, and they can be readily extracted and implemented in any programming language (with nested if-else statements) for use in production environments. Furthermore, decision trees require almost no data preparation (ie normalization) and can handle both categorical and continuous data. To remedy over-fitting and improve prediction accuracy, decision trees can also be limited to a certain depth or complexity, or bundled into ensembles of trees (ie random forests)."
   ]
  },
  {
   "cell_type": "markdown",
   "metadata": {},
   "source": [
    "How do decision trees learn a pattern?\n",
    "- A decision tree is a predictive model which maps observations (features) about an item to conclusions about the item's label or class. The model is generated using a top-down approach, where the source dataset is split into subsets using a statistical measure, often in the form of the Gini index or information gain via Shannon entropy. This process is applied recursively until a subset contains only samples with the same target class, or is halted by a predefined stopping criteria."
   ]
  },
  {
   "cell_type": "markdown",
   "metadata": {},
   "source": [
    "## Create a training and test set\n"
   ]
  },
  {
   "cell_type": "code",
   "execution_count": 52,
   "metadata": {},
   "outputs": [
    {
     "name": "stdout",
     "output_type": "stream",
     "text": [
      "4902\n",
      "2130\n"
     ]
    }
   ],
   "source": [
    "(trainingData, testData) = customers_data.randomSplit([0.7, 0.3], seed = 123)\n",
    "print(trainingData.count())\n",
    "print(testData.count())"
   ]
  },
  {
   "cell_type": "markdown",
   "metadata": {},
   "source": [
    "## Train ML model pipeline on Training Data"
   ]
  },
  {
   "cell_type": "code",
   "execution_count": 70,
   "metadata": {
    "collapsed": true
   },
   "outputs": [],
   "source": [
    "# Initialize a Decision Tree Classifier\n",
    "decisionTree = DecisionTreeClassifier(labelCol=\"label\", featuresCol=\"features\",maxDepth=3)\n",
    "\n",
    "# join all pipeline stages together\n",
    "stages = functools.reduce(operator.concat, [indexers, encoders])\n",
    "stages.append(labelIndexer)\n",
    "stages.append(assembler)\n",
    "stages.append(decisionTree)\n",
    "\n",
    "pipeline = Pipeline(stages=stages)\n",
    "\n",
    "final_pipeline = pipeline.fit(trainingData)"
   ]
  },
  {
   "cell_type": "markdown",
   "metadata": {},
   "source": [
    "# 5. Make Predictions On Test Data and Evaluate Model Accuracy"
   ]
  },
  {
   "cell_type": "markdown",
   "metadata": {},
   "source": [
    "- Now, we will test the above trained machine learning model on a sample test dataset that was not included in creating a machine learning model. This allows us to validate how well the model will perform in the real world. In order to validate performance, we will a measure called AUC - ROC\n",
    "- AUC - ROC curve is a performance measurement for classification problem at various thresholds settings. It tells us how well the model is capable of distinguishing between classes - meaning customer will churn or will not churn. Higher the AUC (highest is 1), better the model is at predicting customers who will churn as churn and those wont churn as wont churn."
   ]
  },
  {
   "cell_type": "code",
   "execution_count": 72,
   "metadata": {
    "collapsed": true,
    "scrolled": true
   },
   "outputs": [],
   "source": [
    "# Make predictions on test data\n",
    "predictions = final_pipeline.transform(testData)"
   ]
  },
  {
   "cell_type": "code",
   "execution_count": 73,
   "metadata": {
    "collapsed": true
   },
   "outputs": [],
   "source": [
    "# Select actual values Vs model's prediction values in test data \n",
    "predictionAndLabels = predictions.select(\"label\", \"prediction\")"
   ]
  },
  {
   "cell_type": "code",
   "execution_count": 74,
   "metadata": {},
   "outputs": [
    {
     "name": "stdout",
     "output_type": "stream",
     "text": [
      "Area under ROC = 0.755934247271\n"
     ]
    }
   ],
   "source": [
    "# calculate auc - roc metric on test dataset\n",
    "metrics = BinaryClassificationMetrics(predictionAndLabels.rdd)\n",
    "print(\"Area under ROC = %s\" % metrics.areaUnderROC)"
   ]
  },
  {
   "cell_type": "code",
   "execution_count": 67,
   "metadata": {
    "collapsed": true
   },
   "outputs": [],
   "source": [
    "predictions.createOrReplaceTempView(\"predictions\")"
   ]
  },
  {
   "cell_type": "code",
   "execution_count": 83,
   "metadata": {},
   "outputs": [
    {
     "name": "stdout",
     "output_type": "stream",
     "text": [
      "+--------------+------------+---------------+\n",
      "|Customer_Count|Actual_Churn|Predicted_Churn|\n",
      "+--------------+------------+---------------+\n",
      "|           286|         1.0|            1.0|\n",
      "|           133|         0.0|            1.0|\n",
      "|           299|         1.0|            0.0|\n",
      "|          1412|         0.0|            0.0|\n",
      "+--------------+------------+---------------+\n",
      "\n"
     ]
    }
   ],
   "source": [
    "# create a confusion matrix to compare actual Vs Predicted label values in test data\n",
    "confusion_matrix = spark.sql (\"select count(*) as Customer_Count, label as Actual_Churn, prediction as Predicted_Churn from predictions group by label, prediction \")\n",
    "confusion_matrix.show()"
   ]
  },
  {
   "cell_type": "markdown",
   "metadata": {},
   "source": [
    "# 6. Save ML Pipeline & deploy to Magellan Data Discovery to empower users\n",
    "- Save the ML model pipeline to magellan datalake\n"
   ]
  },
  {
   "cell_type": "code",
   "execution_count": 77,
   "metadata": {
    "collapsed": true
   },
   "outputs": [],
   "source": [
    "# save the pipeline to Magellan Datalake\n",
    "final_pipeline.write().overwrite().save(\"hdfs://10.18.50.224/OpenText/models/Telco_Customer_Churn\")"
   ]
  },
  {
   "cell_type": "markdown",
   "metadata": {},
   "source": [
    "Click on Publish to Magellan Data Discovery and complete form as below:\n",
    "\n",
    "1. User: Type your Data Discovery username: username@magellan\n",
    "2. Password: Type your Data Discovery password\n",
    "3. Repository: Select Spark Gateway\n",
    "4. Name: type \"Telco Customer Churn Model\"\n",
    "5. Description: \"Leverage machine learning to predict which customers are likely to churn / switch to another provider, based on account information and usage history\"\n",
    "6. The model path uses the format hdfs://ambari/OpenText/models/, without the final slash. Replace the name ambari with the hostname of your server running the Ambari dashboard. For example in this scenario, we are using: hdfs://10.18.50.224/OpenText/models/Telco_Customer_Churn\n",
    "8. Category: Select Categorical Classifier\n",
    "9. Label: churn (Target or Outcome column)\n",
    "10. Degradation Warning - Set as needed, for now we can keep it at 10 %\n",
    "11. Schema Definition (inputs): In Dataframe variable, type trainingData, and choose Obtain. Magellan will automaticlly detect relevant columns / fields used to build the ML pipeline. Make sure to remove column \"churn\" (since that is the outcome of the model).\n",
    "12. Set the security to Share with work group (as needed), and choose Publish.\n",
    "13. Close the window if it says your model was published."
   ]
  },
  {
   "cell_type": "markdown",
   "metadata": {},
   "source": [
    "- Your machine learning pipeline is now available for users in Magellan Data Discovery when they are connected to the Spark repository\n",
    "- Note: In order to score new data with the above created ML Model in Data Discovery, it requires same inputs (sample data provided = \"Telco_churn_sample\")"
   ]
  },
  {
   "cell_type": "markdown",
   "metadata": {},
   "source": [
    "# Done!"
   ]
  },
  {
   "cell_type": "markdown",
   "metadata": {},
   "source": [
    "# ============================================================="
   ]
  },
  {
   "cell_type": "markdown",
   "metadata": {},
   "source": [
    "# * Additional: Explore and visualize the prediction results\n"
   ]
  },
  {
   "cell_type": "code",
   "execution_count": 84,
   "metadata": {
    "collapsed": true
   },
   "outputs": [],
   "source": [
    "# select columns from data\n",
    "predicted_data = predictions.select('monthlycharges','prediction')"
   ]
  },
  {
   "cell_type": "code",
   "execution_count": 85,
   "metadata": {
    "collapsed": true
   },
   "outputs": [],
   "source": [
    "# convert to pandas\n",
    "predicted_df = predicted_data.toPandas() "
   ]
  },
  {
   "cell_type": "code",
   "execution_count": 86,
   "metadata": {
    "scrolled": false
   },
   "outputs": [
    {
     "data": {
      "image/png": "[encoded data removed]",
      "text/plain": [
       "<Figure size 432x288 with 1 Axes>"
      ]
     },
     "metadata": {
      "needs_background": "light"
     },
     "output_type": "display_data"
    }
   ],
   "source": [
    "# visualize churn by monthlycharges\n",
    "sns.boxplot(x=\"prediction\", y=\"monthlycharges\", data=predicted_df).set_title('monthlycharges by Customer Churn')\n",
    "plt.xlabel(\"Customer Churn\")\n",
    "plt.ylabel(\"monthlycharges\")\n",
    "plt.show()"
   ]
  },
  {
   "cell_type": "markdown",
   "metadata": {},
   "source": [
    "# ============================================================="
   ]
  },
  {
   "cell_type": "markdown",
   "metadata": {},
   "source": [
    "# Author"
   ]
  },
  {
   "cell_type": "markdown",
   "metadata": {},
   "source": [
    "Arjun Arora is a Data Scientist at Opentext. He specializes in technology evangelism, data science training, demos, and proof of concepts, that leverage Opentext Magellan and Big Data technologies, such as, Apache Hadoop and Apache Spark. \n",
    "\n",
    "For questions, please reach out to arjuna@opentext.com\n",
    "\n",
    "Date: 1/28/2020"
   ]
  }
 ],
 "metadata": {
  "kernelspec": {
   "display_name": "Magellan - PySpark",
   "language": "python",
   "name": "magellan_pyspark"
  },
  "language_info": {
   "codemirror_mode": {
    "name": "ipython",
    "version": 2
   },
   "file_extension": ".py",
   "mimetype": "text/x-python",
   "name": "python",
   "nbconvert_exporter": "python",
   "pygments_lexer": "ipython2",
   "version": "2.7.15"
  }
 },
 "nbformat": 4,
 "nbformat_minor": 2
}
